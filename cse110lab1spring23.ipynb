{
  "nbformat": 4,
  "nbformat_minor": 0,
  "metadata": {
    "colab": {
      "provenance": []
    },
    "kernelspec": {
      "name": "python3",
      "display_name": "Python 3"
    },
    "language_info": {
      "name": "python"
    }
  },
  "cells": [
    {
      "cell_type": "code",
      "execution_count": null,
      "metadata": {
        "colab": {
          "base_uri": "https://localhost:8080/"
        },
        "id": "nZxv8S-I8snP",
        "outputId": "d5a4df16-75e3-4b97-abb0-a21297c8b3f2"
      },
      "outputs": [
        {
          "output_type": "stream",
          "name": "stdout",
          "text": [
            "hello world\n"
          ]
        }
      ],
      "source": [
        "#task1\n",
        "print('hello world')\n"
      ]
    },
    {
      "cell_type": "code",
      "source": [
        "#task2\n",
        "print(54+56)"
      ],
      "metadata": {
        "colab": {
          "base_uri": "https://localhost:8080/"
        },
        "id": "aftlHk9D9D_0",
        "outputId": "968bd659-d92d-4ef7-b205-53b91445af5b"
      },
      "execution_count": null,
      "outputs": [
        {
          "output_type": "stream",
          "name": "stdout",
          "text": [
            "110\n"
          ]
        }
      ]
    },
    {
      "cell_type": "code",
      "source": [
        "#task3\n",
        "season=\"Fall\"\n",
        "year=2022\n",
        "print(season)\n",
        "print(year)"
      ],
      "metadata": {
        "colab": {
          "base_uri": "https://localhost:8080/"
        },
        "id": "sJre5enJ9Pak",
        "outputId": "682098cb-bced-4bfc-dfb0-c82e705c17ad"
      },
      "execution_count": null,
      "outputs": [
        {
          "output_type": "stream",
          "name": "stdout",
          "text": [
            "Fall\n",
            "2022\n"
          ]
        }
      ]
    },
    {
      "cell_type": "code",
      "source": [
        "#task4\n",
        "name=input('Please enter your name:')\n",
        "print(f'Your name is {name}')"
      ],
      "metadata": {
        "colab": {
          "base_uri": "https://localhost:8080/"
        },
        "id": "-FYl8zfL9hag",
        "outputId": "696ab113-68a3-4617-b3cd-5203253f7e2b"
      },
      "execution_count": null,
      "outputs": [
        {
          "output_type": "stream",
          "name": "stdout",
          "text": [
            "Please enter your name:John\n",
            "Your name is John\n"
          ]
        }
      ]
    },
    {
      "cell_type": "code",
      "source": [
        "#task5\n",
        "M=int(input('Enter base number:'))\n",
        "N=int(input('Enter the power number:'))\n",
        "res=M**N\n",
        "print(f'{M}^{N}:{res}')"
      ],
      "metadata": {
        "colab": {
          "base_uri": "https://localhost:8080/"
        },
        "id": "Y_XqsWjN9yZB",
        "outputId": "0cec6288-d9ad-4581-cfb5-65e0e2a6271a"
      },
      "execution_count": null,
      "outputs": [
        {
          "output_type": "stream",
          "name": "stdout",
          "text": [
            "Enter a number:2\n",
            "Enter a number:3\n",
            "2^3:8\n"
          ]
        }
      ]
    },
    {
      "cell_type": "code",
      "source": [
        "#task6\n",
        "load=int(input('Enter the load:'))\n",
        "rest=load-(load%4)\n",
        "print(rest)\n"
      ],
      "metadata": {
        "colab": {
          "base_uri": "https://localhost:8080/"
        },
        "id": "g1UsPOB6-e57",
        "outputId": "9d00acf1-1aa5-4ce9-e715-f3117842125c"
      },
      "execution_count": null,
      "outputs": [
        {
          "output_type": "stream",
          "name": "stdout",
          "text": [
            "Enter the load:23\n",
            "20\n"
          ]
        }
      ]
    },
    {
      "cell_type": "code",
      "source": [
        "#task7\n",
        "A=int(input('Enter the value of A:'))\n",
        "B=int(input('Enter the value of B:'))\n",
        "C=int(input('Enter the value of C:'))\n",
        "D=float(input('Enter the value of D:'))\n",
        "result=(A**C+B*A-(D/3))\n",
        "print(int(result))"
      ],
      "metadata": {
        "colab": {
          "base_uri": "https://localhost:8080/"
        },
        "id": "nLLVgsudAiXE",
        "outputId": "3e35ba0b-34ca-4eb8-f06f-da9b8238ff61"
      },
      "execution_count": null,
      "outputs": [
        {
          "output_type": "stream",
          "name": "stdout",
          "text": [
            "Enter the value of A:2\n",
            "Enter the value of B:6\n",
            "Enter the value of C:8\n",
            "Enter the value of D:1.3\n",
            "267\n"
          ]
        }
      ]
    },
    {
      "cell_type": "code",
      "source": [
        "#task8\n",
        "choc=int(input('Enter number of chocolates:'))\n",
        "three=choc//3\n",
        "remaining=choc%3\n",
        "print(f'Each friend will receive {three} chocolates')\n",
        "print(f'The number of remaining chocolate is {remaining}')\n"
      ],
      "metadata": {
        "colab": {
          "base_uri": "https://localhost:8080/"
        },
        "id": "cLqpmP9BCWCh",
        "outputId": "4430bf92-0dc8-4dfb-91b1-dda78e39d34c"
      },
      "execution_count": null,
      "outputs": [
        {
          "output_type": "stream",
          "name": "stdout",
          "text": [
            "Enter number of chocolates:50\n",
            "Each friend will receive 16 chocolates\n",
            "The number of remaining chocolate is 2\n"
          ]
        }
      ]
    },
    {
      "cell_type": "code",
      "source": [
        "#task9\n",
        "M=input('Enter value of M:')\n",
        "N=input('Enter value of N:')\n",
        "print(N+M)"
      ],
      "metadata": {
        "colab": {
          "base_uri": "https://localhost:8080/"
        },
        "id": "JXF5hpqtDxPn",
        "outputId": "f1440892-87cd-47a8-e6a4-1eef1b265447"
      },
      "execution_count": null,
      "outputs": [
        {
          "output_type": "stream",
          "name": "stdout",
          "text": [
            "Enter value of M:5\n",
            "Enter value of N:2\n",
            "25\n"
          ]
        }
      ]
    },
    {
      "cell_type": "code",
      "source": [
        "#task10\n",
        "line=input('Enter a line:')\n",
        "print(line[0])"
      ],
      "metadata": {
        "colab": {
          "base_uri": "https://localhost:8080/"
        },
        "id": "mxS2VSBpEMTg",
        "outputId": "f3966ca6-561f-425b-8000-7b48e914b657"
      },
      "execution_count": null,
      "outputs": [
        {
          "output_type": "stream",
          "name": "stdout",
          "text": [
            "Enter a line:Python is an interpreted language\n",
            "P\n"
          ]
        }
      ]
    },
    {
      "cell_type": "code",
      "source": [
        "#task11\n",
        "num=int(input('Enter a number:'))\n",
        "if num%2==0:\n",
        "  print(True)\n",
        "else:\n",
        "  print(False)"
      ],
      "metadata": {
        "colab": {
          "base_uri": "https://localhost:8080/"
        },
        "id": "PbxLZBpxEbKv",
        "outputId": "52c9b6e7-0a02-4ae3-d8f2-f751a2329598"
      },
      "execution_count": null,
      "outputs": [
        {
          "output_type": "stream",
          "name": "stdout",
          "text": [
            "Enter a number:-11\n",
            "False\n"
          ]
        }
      ]
    }
  ]
}